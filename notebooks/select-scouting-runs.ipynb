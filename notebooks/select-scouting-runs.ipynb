{
 "cells": [
  {
   "cell_type": "code",
   "execution_count": null,
   "metadata": {},
   "outputs": [],
   "source": [
    "import os\n",
    "os.environ['TF_CPP_MIN_LOG_LEVEL'] = '2'\n",
    "\n",
    "import warnings\n",
    "warnings.filterwarnings(\"ignore\")\n",
    "\n",
    "import tensorflow as tf\n",
    "tf.config.set_visible_devices([], 'GPU')\n",
    "\n",
    "import numpy as np\n",
    "np.set_printoptions(suppress=True)\n",
    "\n",
    "from src.envs import ScoutingRuns, SingleStepScoutingRuns\n",
    "\n",
    "from helper_functions import run_env\n",
    "from helper_functions import print_results\n",
    "from helper_functions import plot_results"
   ]
  },
  {
   "cell_type": "code",
   "execution_count": null,
   "metadata": {},
   "outputs": [],
   "source": [
    "# Load saved agent (may show some warnings, but will run fine)\n",
    "# Agent (actor/policy) selects action as follows: action = agent(state)\n",
    "name = 'ddpg_agent'\n",
    "model_path = f'../outputs/{name}_best_policy'\n",
    "agent = tf.saved_model.load(model_path)\n",
    "\n",
    "# For envs, specify the same parameters that was used when training:\n",
    "num_scouting_runs = 3\n",
    "penalty = 0.1\n",
    "enforce_constraints = False \n",
    "stop_action = False "
   ]
  },
  {
   "cell_type": "code",
   "execution_count": null,
   "metadata": {},
   "outputs": [],
   "source": [
    "# Some arbitrary compounds (sets of NK parameters)\n",
    "compounds = [\n",
    "    # s1, s2, kw\n",
    "    np.array([15, 1.0, 100]),\n",
    "    np.array([28, 1.5, 3000]),\n",
    "    np.array([37, 1.8, 22000]),\n",
    "    np.array([45, 2.1, 40000]),\n",
    "]\n",
    "\n",
    "\n",
    "# Perform scouting runs for each compound, and visualize results.\n",
    "for compound in compounds:\n",
    "\n",
    "    env = ScoutingRuns(\n",
    "        max_scouting_runs=num_scouting_runs,\n",
    "        penalty=penalty,\n",
    "        enforce_constraints=enforce_constraints,\n",
    "        stop_action=stop_action,\n",
    "        tf_summary_path=None\n",
    "    )\n",
    "\n",
    "    # env = SingleStepScoutingRuns(\n",
    "    #     num_scouting_runs=num_scouting_runs,\n",
    "    #     penalty=penalty, \n",
    "    #     enforce_constraints=enforce_constraints,\n",
    "    #     tf_summary_path=None\n",
    "    # )\n",
    "\n",
    "    initial_state, _ = env.reset(compound)                                   \n",
    "\n",
    "    env = run_env(env, agent, initial_state)\n",
    "    \n",
    "    print_results(env)\n",
    "    plot_results(env)\n",
    "    \n",
    "    print('+++' * 20, end='\\n\\n')\n",
    "    "
   ]
  },
  {
   "cell_type": "code",
   "execution_count": null,
   "metadata": {},
   "outputs": [],
   "source": []
  }
 ],
 "metadata": {
  "kernelspec": {
   "display_name": "Python 3 (ipykernel)",
   "language": "python",
   "name": "python3"
  },
  "language_info": {
   "codemirror_mode": {
    "name": "ipython",
    "version": 3
   },
   "file_extension": ".py",
   "mimetype": "text/x-python",
   "name": "python",
   "nbconvert_exporter": "python",
   "pygments_lexer": "ipython3",
   "version": "3.10.12"
  }
 },
 "nbformat": 4,
 "nbformat_minor": 4
}
